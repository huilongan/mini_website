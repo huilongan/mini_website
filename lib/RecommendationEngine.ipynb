{
 "cells": [
  {
   "cell_type": "code",
   "execution_count": 45,
   "metadata": {
    "collapsed": true
   },
   "outputs": [],
   "source": [
    "import graphlab"
   ]
  },
  {
   "cell_type": "code",
   "execution_count": 46,
   "metadata": {
    "collapsed": true
   },
   "outputs": [],
   "source": [
    "import pandas as pd"
   ]
  },
  {
   "cell_type": "code",
   "execution_count": 47,
   "metadata": {
    "collapsed": false
   },
   "outputs": [],
   "source": [
    "ratings_base = pd.read_csv('merge.csv')"
   ]
  },
  {
   "cell_type": "code",
   "execution_count": 48,
   "metadata": {
    "collapsed": false
   },
   "outputs": [],
   "source": [
    "ratings_base = ratings_base.ix[:, 1:4]"
   ]
  },
  {
   "cell_type": "code",
   "execution_count": 49,
   "metadata": {
    "collapsed": false
   },
   "outputs": [],
   "source": [
    "train_data = graphlab.SFrame(ratings_base)"
   ]
  },
  {
   "cell_type": "code",
   "execution_count": 11,
   "metadata": {
    "collapsed": false
   },
   "outputs": [
    {
     "data": {
      "text/html": [
       "<div style=\"max-height:1000px;max-width:1500px;overflow:auto;\"><table frame=\"box\" rules=\"cols\">\n",
       "    <tr>\n",
       "        <th style=\"padding-left: 1em; padding-right: 1em; text-align: center\">business_id</th>\n",
       "        <th style=\"padding-left: 1em; padding-right: 1em; text-align: center\">user_id</th>\n",
       "        <th style=\"padding-left: 1em; padding-right: 1em; text-align: center\">stars</th>\n",
       "    </tr>\n",
       "    <tr>\n",
       "        <td style=\"padding-left: 1em; padding-right: 1em; text-align: center; vertical-align: top\">RQmLQYF2ZoLRF240VE1Vew</td>\n",
       "        <td style=\"padding-left: 1em; padding-right: 1em; text-align: center; vertical-align: top\">1diI7PX0AxbbtiUB7nPbuQ</td>\n",
       "        <td style=\"padding-left: 1em; padding-right: 1em; text-align: center; vertical-align: top\">5</td>\n",
       "    </tr>\n",
       "    <tr>\n",
       "        <td style=\"padding-left: 1em; padding-right: 1em; text-align: center; vertical-align: top\">RQmLQYF2ZoLRF240VE1Vew</td>\n",
       "        <td style=\"padding-left: 1em; padding-right: 1em; text-align: center; vertical-align: top\">2_HfgANoSydelB2FSExqWw</td>\n",
       "        <td style=\"padding-left: 1em; padding-right: 1em; text-align: center; vertical-align: top\">3</td>\n",
       "    </tr>\n",
       "    <tr>\n",
       "        <td style=\"padding-left: 1em; padding-right: 1em; text-align: center; vertical-align: top\">RQmLQYF2ZoLRF240VE1Vew</td>\n",
       "        <td style=\"padding-left: 1em; padding-right: 1em; text-align: center; vertical-align: top\">3gIfcQq5KxAegwCPXc83cQ</td>\n",
       "        <td style=\"padding-left: 1em; padding-right: 1em; text-align: center; vertical-align: top\">2</td>\n",
       "    </tr>\n",
       "    <tr>\n",
       "        <td style=\"padding-left: 1em; padding-right: 1em; text-align: center; vertical-align: top\">RQmLQYF2ZoLRF240VE1Vew</td>\n",
       "        <td style=\"padding-left: 1em; padding-right: 1em; text-align: center; vertical-align: top\">51TIJ6jlsVGWhEvu02433g</td>\n",
       "        <td style=\"padding-left: 1em; padding-right: 1em; text-align: center; vertical-align: top\">5</td>\n",
       "    </tr>\n",
       "    <tr>\n",
       "        <td style=\"padding-left: 1em; padding-right: 1em; text-align: center; vertical-align: top\">RQmLQYF2ZoLRF240VE1Vew</td>\n",
       "        <td style=\"padding-left: 1em; padding-right: 1em; text-align: center; vertical-align: top\">66oDhsKSB_eSrhCKiERDow</td>\n",
       "        <td style=\"padding-left: 1em; padding-right: 1em; text-align: center; vertical-align: top\">4</td>\n",
       "    </tr>\n",
       "    <tr>\n",
       "        <td style=\"padding-left: 1em; padding-right: 1em; text-align: center; vertical-align: top\">RQmLQYF2ZoLRF240VE1Vew</td>\n",
       "        <td style=\"padding-left: 1em; padding-right: 1em; text-align: center; vertical-align: top\">6teUzcdOBAydncEmvW02zQ</td>\n",
       "        <td style=\"padding-left: 1em; padding-right: 1em; text-align: center; vertical-align: top\">5</td>\n",
       "    </tr>\n",
       "    <tr>\n",
       "        <td style=\"padding-left: 1em; padding-right: 1em; text-align: center; vertical-align: top\">RQmLQYF2ZoLRF240VE1Vew</td>\n",
       "        <td style=\"padding-left: 1em; padding-right: 1em; text-align: center; vertical-align: top\">6ts41fCsDKHbFZaKOMNmVQ</td>\n",
       "        <td style=\"padding-left: 1em; padding-right: 1em; text-align: center; vertical-align: top\">5</td>\n",
       "    </tr>\n",
       "    <tr>\n",
       "        <td style=\"padding-left: 1em; padding-right: 1em; text-align: center; vertical-align: top\">RQmLQYF2ZoLRF240VE1Vew</td>\n",
       "        <td style=\"padding-left: 1em; padding-right: 1em; text-align: center; vertical-align: top\">7GAjxEA-OscXgPt7YFgkBw</td>\n",
       "        <td style=\"padding-left: 1em; padding-right: 1em; text-align: center; vertical-align: top\">5</td>\n",
       "    </tr>\n",
       "    <tr>\n",
       "        <td style=\"padding-left: 1em; padding-right: 1em; text-align: center; vertical-align: top\">RQmLQYF2ZoLRF240VE1Vew</td>\n",
       "        <td style=\"padding-left: 1em; padding-right: 1em; text-align: center; vertical-align: top\">8p4at4zdzCpueAmSBaorZA</td>\n",
       "        <td style=\"padding-left: 1em; padding-right: 1em; text-align: center; vertical-align: top\">5</td>\n",
       "    </tr>\n",
       "    <tr>\n",
       "        <td style=\"padding-left: 1em; padding-right: 1em; text-align: center; vertical-align: top\">RQmLQYF2ZoLRF240VE1Vew</td>\n",
       "        <td style=\"padding-left: 1em; padding-right: 1em; text-align: center; vertical-align: top\">E_nfCKOFFgvbfY0yGg-Oew</td>\n",
       "        <td style=\"padding-left: 1em; padding-right: 1em; text-align: center; vertical-align: top\">5</td>\n",
       "    </tr>\n",
       "</table>\n",
       "[653557 rows x 3 columns]<br/>Note: Only the head of the SFrame is printed.<br/>You can use print_rows(num_rows=m, num_columns=n) to print more rows and columns.\n",
       "</div>"
      ],
      "text/plain": [
       "Columns:\n",
       "\tbusiness_id\tstr\n",
       "\tuser_id\tstr\n",
       "\tstars\tint\n",
       "\n",
       "Rows: 653557\n",
       "\n",
       "Data:\n",
       "+------------------------+------------------------+-------+\n",
       "|      business_id       |        user_id         | stars |\n",
       "+------------------------+------------------------+-------+\n",
       "| RQmLQYF2ZoLRF240VE1Vew | 1diI7PX0AxbbtiUB7nPbuQ |   5   |\n",
       "| RQmLQYF2ZoLRF240VE1Vew | 2_HfgANoSydelB2FSExqWw |   3   |\n",
       "| RQmLQYF2ZoLRF240VE1Vew | 3gIfcQq5KxAegwCPXc83cQ |   2   |\n",
       "| RQmLQYF2ZoLRF240VE1Vew | 51TIJ6jlsVGWhEvu02433g |   5   |\n",
       "| RQmLQYF2ZoLRF240VE1Vew | 66oDhsKSB_eSrhCKiERDow |   4   |\n",
       "| RQmLQYF2ZoLRF240VE1Vew | 6teUzcdOBAydncEmvW02zQ |   5   |\n",
       "| RQmLQYF2ZoLRF240VE1Vew | 6ts41fCsDKHbFZaKOMNmVQ |   5   |\n",
       "| RQmLQYF2ZoLRF240VE1Vew | 7GAjxEA-OscXgPt7YFgkBw |   5   |\n",
       "| RQmLQYF2ZoLRF240VE1Vew | 8p4at4zdzCpueAmSBaorZA |   5   |\n",
       "| RQmLQYF2ZoLRF240VE1Vew | E_nfCKOFFgvbfY0yGg-Oew |   5   |\n",
       "+------------------------+------------------------+-------+\n",
       "[653557 rows x 3 columns]\n",
       "Note: Only the head of the SFrame is printed.\n",
       "You can use print_rows(num_rows=m, num_columns=n) to print more rows and columns."
      ]
     },
     "execution_count": 11,
     "metadata": {},
     "output_type": "execute_result"
    }
   ],
   "source": [
    "train_data"
   ]
  },
  {
   "cell_type": "code",
   "execution_count": 26,
   "metadata": {
    "collapsed": false
   },
   "outputs": [
    {
     "data": {
      "text/html": [
       "<pre>Recsys training: model = ranking_factorization_recommender</pre>"
      ],
      "text/plain": [
       "Recsys training: model = ranking_factorization_recommender"
      ]
     },
     "metadata": {},
     "output_type": "display_data"
    },
    {
     "data": {
      "text/html": [
       "<pre>Preparing data set.</pre>"
      ],
      "text/plain": [
       "Preparing data set."
      ]
     },
     "metadata": {},
     "output_type": "display_data"
    },
    {
     "data": {
      "text/html": [
       "<pre>    Data has 653557 observations with 27780 users and 9284 items.</pre>"
      ],
      "text/plain": [
       "    Data has 653557 observations with 27780 users and 9284 items."
      ]
     },
     "metadata": {},
     "output_type": "display_data"
    },
    {
     "data": {
      "text/html": [
       "<pre>    Data prepared in: 1.12382s</pre>"
      ],
      "text/plain": [
       "    Data prepared in: 1.12382s"
      ]
     },
     "metadata": {},
     "output_type": "display_data"
    },
    {
     "data": {
      "text/html": [
       "<pre>Training ranking_factorization_recommender for recommendations.</pre>"
      ],
      "text/plain": [
       "Training ranking_factorization_recommender for recommendations."
      ]
     },
     "metadata": {},
     "output_type": "display_data"
    },
    {
     "data": {
      "text/html": [
       "<pre>+--------------------------------+--------------------------------------------------+----------+</pre>"
      ],
      "text/plain": [
       "+--------------------------------+--------------------------------------------------+----------+"
      ]
     },
     "metadata": {},
     "output_type": "display_data"
    },
    {
     "data": {
      "text/html": [
       "<pre>| Parameter                      | Description                                      | Value    |</pre>"
      ],
      "text/plain": [
       "| Parameter                      | Description                                      | Value    |"
      ]
     },
     "metadata": {},
     "output_type": "display_data"
    },
    {
     "data": {
      "text/html": [
       "<pre>+--------------------------------+--------------------------------------------------+----------+</pre>"
      ],
      "text/plain": [
       "+--------------------------------+--------------------------------------------------+----------+"
      ]
     },
     "metadata": {},
     "output_type": "display_data"
    },
    {
     "data": {
      "text/html": [
       "<pre>| num_factors                    | Factor Dimension                                 | 32       |</pre>"
      ],
      "text/plain": [
       "| num_factors                    | Factor Dimension                                 | 32       |"
      ]
     },
     "metadata": {},
     "output_type": "display_data"
    },
    {
     "data": {
      "text/html": [
       "<pre>| regularization                 | L2 Regularization on Factors                     | 1e-09    |</pre>"
      ],
      "text/plain": [
       "| regularization                 | L2 Regularization on Factors                     | 1e-09    |"
      ]
     },
     "metadata": {},
     "output_type": "display_data"
    },
    {
     "data": {
      "text/html": [
       "<pre>| solver                         | Solver used for training                         | sgd      |</pre>"
      ],
      "text/plain": [
       "| solver                         | Solver used for training                         | sgd      |"
      ]
     },
     "metadata": {},
     "output_type": "display_data"
    },
    {
     "data": {
      "text/html": [
       "<pre>| linear_regularization          | L2 Regularization on Linear Coefficients         | 1e-09    |</pre>"
      ],
      "text/plain": [
       "| linear_regularization          | L2 Regularization on Linear Coefficients         | 1e-09    |"
      ]
     },
     "metadata": {},
     "output_type": "display_data"
    },
    {
     "data": {
      "text/html": [
       "<pre>| ranking_regularization         | Rank-based Regularization Weight                 | 0.25     |</pre>"
      ],
      "text/plain": [
       "| ranking_regularization         | Rank-based Regularization Weight                 | 0.25     |"
      ]
     },
     "metadata": {},
     "output_type": "display_data"
    },
    {
     "data": {
      "text/html": [
       "<pre>| max_iterations                 | Maximum Number of Iterations                     | 25       |</pre>"
      ],
      "text/plain": [
       "| max_iterations                 | Maximum Number of Iterations                     | 25       |"
      ]
     },
     "metadata": {},
     "output_type": "display_data"
    },
    {
     "data": {
      "text/html": [
       "<pre>+--------------------------------+--------------------------------------------------+----------+</pre>"
      ],
      "text/plain": [
       "+--------------------------------+--------------------------------------------------+----------+"
      ]
     },
     "metadata": {},
     "output_type": "display_data"
    },
    {
     "data": {
      "text/html": [
       "<pre>  Optimizing model using SGD; tuning step size.</pre>"
      ],
      "text/plain": [
       "  Optimizing model using SGD; tuning step size."
      ]
     },
     "metadata": {},
     "output_type": "display_data"
    },
    {
     "data": {
      "text/html": [
       "<pre>  Using 81694 / 653557 points for tuning the step size.</pre>"
      ],
      "text/plain": [
       "  Using 81694 / 653557 points for tuning the step size."
      ]
     },
     "metadata": {},
     "output_type": "display_data"
    },
    {
     "data": {
      "text/html": [
       "<pre>+---------+-------------------+------------------------------------------+</pre>"
      ],
      "text/plain": [
       "+---------+-------------------+------------------------------------------+"
      ]
     },
     "metadata": {},
     "output_type": "display_data"
    },
    {
     "data": {
      "text/html": [
       "<pre>| Attempt | Initial Step Size | Estimated Objective Value                |</pre>"
      ],
      "text/plain": [
       "| Attempt | Initial Step Size | Estimated Objective Value                |"
      ]
     },
     "metadata": {},
     "output_type": "display_data"
    },
    {
     "data": {
      "text/html": [
       "<pre>+---------+-------------------+------------------------------------------+</pre>"
      ],
      "text/plain": [
       "+---------+-------------------+------------------------------------------+"
      ]
     },
     "metadata": {},
     "output_type": "display_data"
    },
    {
     "data": {
      "text/html": [
       "<pre>| 0       | 25                | Not Viable                               |</pre>"
      ],
      "text/plain": [
       "| 0       | 25                | Not Viable                               |"
      ]
     },
     "metadata": {},
     "output_type": "display_data"
    },
    {
     "data": {
      "text/html": [
       "<pre>| 1       | 6.25              | Not Viable                               |</pre>"
      ],
      "text/plain": [
       "| 1       | 6.25              | Not Viable                               |"
      ]
     },
     "metadata": {},
     "output_type": "display_data"
    },
    {
     "data": {
      "text/html": [
       "<pre>| 2       | 1.5625            | Not Viable                               |</pre>"
      ],
      "text/plain": [
       "| 2       | 1.5625            | Not Viable                               |"
      ]
     },
     "metadata": {},
     "output_type": "display_data"
    },
    {
     "data": {
      "text/html": [
       "<pre>| 3       | 0.390625          | Not Viable                               |</pre>"
      ],
      "text/plain": [
       "| 3       | 0.390625          | Not Viable                               |"
      ]
     },
     "metadata": {},
     "output_type": "display_data"
    },
    {
     "data": {
      "text/html": [
       "<pre>| 4       | 0.0976562         | 1.89256                                  |</pre>"
      ],
      "text/plain": [
       "| 4       | 0.0976562         | 1.89256                                  |"
      ]
     },
     "metadata": {},
     "output_type": "display_data"
    },
    {
     "data": {
      "text/html": [
       "<pre>| 5       | 0.0488281         | 1.93896                                  |</pre>"
      ],
      "text/plain": [
       "| 5       | 0.0488281         | 1.93896                                  |"
      ]
     },
     "metadata": {},
     "output_type": "display_data"
    },
    {
     "data": {
      "text/html": [
       "<pre>| 6       | 0.0244141         | 2.03074                                  |</pre>"
      ],
      "text/plain": [
       "| 6       | 0.0244141         | 2.03074                                  |"
      ]
     },
     "metadata": {},
     "output_type": "display_data"
    },
    {
     "data": {
      "text/html": [
       "<pre>| 7       | 0.012207          | 2.14826                                  |</pre>"
      ],
      "text/plain": [
       "| 7       | 0.012207          | 2.14826                                  |"
      ]
     },
     "metadata": {},
     "output_type": "display_data"
    },
    {
     "data": {
      "text/html": [
       "<pre>+---------+-------------------+------------------------------------------+</pre>"
      ],
      "text/plain": [
       "+---------+-------------------+------------------------------------------+"
      ]
     },
     "metadata": {},
     "output_type": "display_data"
    },
    {
     "data": {
      "text/html": [
       "<pre>| Final   | 0.0976562         | 1.89256                                  |</pre>"
      ],
      "text/plain": [
       "| Final   | 0.0976562         | 1.89256                                  |"
      ]
     },
     "metadata": {},
     "output_type": "display_data"
    },
    {
     "data": {
      "text/html": [
       "<pre>+---------+-------------------+------------------------------------------+</pre>"
      ],
      "text/plain": [
       "+---------+-------------------+------------------------------------------+"
      ]
     },
     "metadata": {},
     "output_type": "display_data"
    },
    {
     "data": {
      "text/html": [
       "<pre>Starting Optimization.</pre>"
      ],
      "text/plain": [
       "Starting Optimization."
      ]
     },
     "metadata": {},
     "output_type": "display_data"
    },
    {
     "data": {
      "text/html": [
       "<pre>+---------+--------------+-------------------+-----------------------+-------------+</pre>"
      ],
      "text/plain": [
       "+---------+--------------+-------------------+-----------------------+-------------+"
      ]
     },
     "metadata": {},
     "output_type": "display_data"
    },
    {
     "data": {
      "text/html": [
       "<pre>| Iter.   | Elapsed Time | Approx. Objective | Approx. Training RMSE | Step Size   |</pre>"
      ],
      "text/plain": [
       "| Iter.   | Elapsed Time | Approx. Objective | Approx. Training RMSE | Step Size   |"
      ]
     },
     "metadata": {},
     "output_type": "display_data"
    },
    {
     "data": {
      "text/html": [
       "<pre>+---------+--------------+-------------------+-----------------------+-------------+</pre>"
      ],
      "text/plain": [
       "+---------+--------------+-------------------+-----------------------+-------------+"
      ]
     },
     "metadata": {},
     "output_type": "display_data"
    },
    {
     "data": {
      "text/html": [
       "<pre>| Initial | 72us         | 2.57174           | 1.14528               |             |</pre>"
      ],
      "text/plain": [
       "| Initial | 72us         | 2.57174           | 1.14528               |             |"
      ]
     },
     "metadata": {},
     "output_type": "display_data"
    },
    {
     "data": {
      "text/html": [
       "<pre>+---------+--------------+-------------------+-----------------------+-------------+</pre>"
      ],
      "text/plain": [
       "+---------+--------------+-------------------+-----------------------+-------------+"
      ]
     },
     "metadata": {},
     "output_type": "display_data"
    },
    {
     "data": {
      "text/html": [
       "<pre>| 1       | 684.246ms    | 2.41931           | 1.22873               | 0.0976562   |</pre>"
      ],
      "text/plain": [
       "| 1       | 684.246ms    | 2.41931           | 1.22873               | 0.0976562   |"
      ]
     },
     "metadata": {},
     "output_type": "display_data"
    },
    {
     "data": {
      "text/html": [
       "<pre>| 2       | 1.30s        | 2.17781           | 1.19048               | 0.0580668   |</pre>"
      ],
      "text/plain": [
       "| 2       | 1.30s        | 2.17781           | 1.19048               | 0.0580668   |"
      ]
     },
     "metadata": {},
     "output_type": "display_data"
    },
    {
     "data": {
      "text/html": [
       "<pre>| 3       | 1.84s        | 1.99392           | 1.11467               | 0.042841    |</pre>"
      ],
      "text/plain": [
       "| 3       | 1.84s        | 1.99392           | 1.11467               | 0.042841    |"
      ]
     },
     "metadata": {},
     "output_type": "display_data"
    },
    {
     "data": {
      "text/html": [
       "<pre>| 4       | 2.45s        | 1.73368           | 1.02351               | 0.0345267   |</pre>"
      ],
      "text/plain": [
       "| 4       | 2.45s        | 1.73368           | 1.02351               | 0.0345267   |"
      ]
     },
     "metadata": {},
     "output_type": "display_data"
    },
    {
     "data": {
      "text/html": [
       "<pre>| 5       | 2.97s        | 1.49162           | 0.923651              | 0.029206    |</pre>"
      ],
      "text/plain": [
       "| 5       | 2.97s        | 1.49162           | 0.923651              | 0.029206    |"
      ]
     },
     "metadata": {},
     "output_type": "display_data"
    },
    {
     "data": {
      "text/html": [
       "<pre>| 6       | 3.61s        | 1.30248           | 0.842552              | 0.0254734   |</pre>"
      ],
      "text/plain": [
       "| 6       | 3.61s        | 1.30248           | 0.842552              | 0.0254734   |"
      ]
     },
     "metadata": {},
     "output_type": "display_data"
    },
    {
     "data": {
      "text/html": [
       "<pre>| 10      | 5.83s        | 0.915012          | 0.661663              | 0.017366    |</pre>"
      ],
      "text/plain": [
       "| 10      | 5.83s        | 0.915012          | 0.661663              | 0.017366    |"
      ]
     },
     "metadata": {},
     "output_type": "display_data"
    },
    {
     "data": {
      "text/html": [
       "<pre>| 11      | 6.38s        | 0.865339          | 0.637195              | 0.016168    |</pre>"
      ],
      "text/plain": [
       "| 11      | 6.38s        | 0.865339          | 0.637195              | 0.016168    |"
      ]
     },
     "metadata": {},
     "output_type": "display_data"
    },
    {
     "data": {
      "text/html": [
       "<pre>| 15      | 8.30s        | 0.738262          | 0.572334              | 0.0128124   |</pre>"
      ],
      "text/plain": [
       "| 15      | 8.30s        | 0.738262          | 0.572334              | 0.0128124   |"
      ]
     },
     "metadata": {},
     "output_type": "display_data"
    },
    {
     "data": {
      "text/html": [
       "<pre>| 20      | 10.98s       | 0.656675          | 0.529588              | 0.0103259   |</pre>"
      ],
      "text/plain": [
       "| 20      | 10.98s       | 0.656675          | 0.529588              | 0.0103259   |"
      ]
     },
     "metadata": {},
     "output_type": "display_data"
    },
    {
     "data": {
      "text/html": [
       "<pre>| 25      | 13.47s       | 0.608584          | 0.503457              | 0.00873464  |</pre>"
      ],
      "text/plain": [
       "| 25      | 13.47s       | 0.608584          | 0.503457              | 0.00873464  |"
      ]
     },
     "metadata": {},
     "output_type": "display_data"
    },
    {
     "data": {
      "text/html": [
       "<pre>+---------+--------------+-------------------+-----------------------+-------------+</pre>"
      ],
      "text/plain": [
       "+---------+--------------+-------------------+-----------------------+-------------+"
      ]
     },
     "metadata": {},
     "output_type": "display_data"
    },
    {
     "data": {
      "text/html": [
       "<pre>Optimization Complete: Maximum number of passes through the data reached.</pre>"
      ],
      "text/plain": [
       "Optimization Complete: Maximum number of passes through the data reached."
      ]
     },
     "metadata": {},
     "output_type": "display_data"
    },
    {
     "data": {
      "text/html": [
       "<pre>Computing final objective value and training RMSE.</pre>"
      ],
      "text/plain": [
       "Computing final objective value and training RMSE."
      ]
     },
     "metadata": {},
     "output_type": "display_data"
    },
    {
     "data": {
      "text/html": [
       "<pre>       Final objective value: 0.561574</pre>"
      ],
      "text/plain": [
       "       Final objective value: 0.561574"
      ]
     },
     "metadata": {},
     "output_type": "display_data"
    },
    {
     "data": {
      "text/html": [
       "<pre>       Final training RMSE: 0.452651</pre>"
      ],
      "text/plain": [
       "       Final training RMSE: 0.452651"
      ]
     },
     "metadata": {},
     "output_type": "display_data"
    }
   ],
   "source": [
    "model = graphlab.recommender.create(train_data, user_id='user_id', item_id='business_id', target='stars')"
   ]
  },
  {
   "cell_type": "code",
   "execution_count": 29,
   "metadata": {
    "collapsed": false
   },
   "outputs": [
    {
     "data": {
      "text/html": [
       "<pre>recommendations finished on 1000/27780 queries. users per second: 8420.13</pre>"
      ],
      "text/plain": [
       "recommendations finished on 1000/27780 queries. users per second: 8420.13"
      ]
     },
     "metadata": {},
     "output_type": "display_data"
    },
    {
     "data": {
      "text/html": [
       "<pre>recommendations finished on 2000/27780 queries. users per second: 8735.49</pre>"
      ],
      "text/plain": [
       "recommendations finished on 2000/27780 queries. users per second: 8735.49"
      ]
     },
     "metadata": {},
     "output_type": "display_data"
    },
    {
     "data": {
      "text/html": [
       "<pre>recommendations finished on 3000/27780 queries. users per second: 8982.47</pre>"
      ],
      "text/plain": [
       "recommendations finished on 3000/27780 queries. users per second: 8982.47"
      ]
     },
     "metadata": {},
     "output_type": "display_data"
    },
    {
     "data": {
      "text/html": [
       "<pre>recommendations finished on 4000/27780 queries. users per second: 9064.99</pre>"
      ],
      "text/plain": [
       "recommendations finished on 4000/27780 queries. users per second: 9064.99"
      ]
     },
     "metadata": {},
     "output_type": "display_data"
    },
    {
     "data": {
      "text/html": [
       "<pre>recommendations finished on 5000/27780 queries. users per second: 9161.3</pre>"
      ],
      "text/plain": [
       "recommendations finished on 5000/27780 queries. users per second: 9161.3"
      ]
     },
     "metadata": {},
     "output_type": "display_data"
    },
    {
     "data": {
      "text/html": [
       "<pre>recommendations finished on 6000/27780 queries. users per second: 9156.57</pre>"
      ],
      "text/plain": [
       "recommendations finished on 6000/27780 queries. users per second: 9156.57"
      ]
     },
     "metadata": {},
     "output_type": "display_data"
    },
    {
     "data": {
      "text/html": [
       "<pre>recommendations finished on 7000/27780 queries. users per second: 9046.14</pre>"
      ],
      "text/plain": [
       "recommendations finished on 7000/27780 queries. users per second: 9046.14"
      ]
     },
     "metadata": {},
     "output_type": "display_data"
    },
    {
     "data": {
      "text/html": [
       "<pre>recommendations finished on 8000/27780 queries. users per second: 9072.99</pre>"
      ],
      "text/plain": [
       "recommendations finished on 8000/27780 queries. users per second: 9072.99"
      ]
     },
     "metadata": {},
     "output_type": "display_data"
    },
    {
     "data": {
      "text/html": [
       "<pre>recommendations finished on 9000/27780 queries. users per second: 8838.82</pre>"
      ],
      "text/plain": [
       "recommendations finished on 9000/27780 queries. users per second: 8838.82"
      ]
     },
     "metadata": {},
     "output_type": "display_data"
    },
    {
     "data": {
      "text/html": [
       "<pre>recommendations finished on 10000/27780 queries. users per second: 8284.06</pre>"
      ],
      "text/plain": [
       "recommendations finished on 10000/27780 queries. users per second: 8284.06"
      ]
     },
     "metadata": {},
     "output_type": "display_data"
    },
    {
     "data": {
      "text/html": [
       "<pre>recommendations finished on 11000/27780 queries. users per second: 8059.29</pre>"
      ],
      "text/plain": [
       "recommendations finished on 11000/27780 queries. users per second: 8059.29"
      ]
     },
     "metadata": {},
     "output_type": "display_data"
    },
    {
     "data": {
      "text/html": [
       "<pre>recommendations finished on 12000/27780 queries. users per second: 8264.04</pre>"
      ],
      "text/plain": [
       "recommendations finished on 12000/27780 queries. users per second: 8264.04"
      ]
     },
     "metadata": {},
     "output_type": "display_data"
    },
    {
     "data": {
      "text/html": [
       "<pre>recommendations finished on 13000/27780 queries. users per second: 8443.81</pre>"
      ],
      "text/plain": [
       "recommendations finished on 13000/27780 queries. users per second: 8443.81"
      ]
     },
     "metadata": {},
     "output_type": "display_data"
    },
    {
     "data": {
      "text/html": [
       "<pre>recommendations finished on 14000/27780 queries. users per second: 8598</pre>"
      ],
      "text/plain": [
       "recommendations finished on 14000/27780 queries. users per second: 8598"
      ]
     },
     "metadata": {},
     "output_type": "display_data"
    },
    {
     "data": {
      "text/html": [
       "<pre>recommendations finished on 15000/27780 queries. users per second: 8661.73</pre>"
      ],
      "text/plain": [
       "recommendations finished on 15000/27780 queries. users per second: 8661.73"
      ]
     },
     "metadata": {},
     "output_type": "display_data"
    },
    {
     "data": {
      "text/html": [
       "<pre>recommendations finished on 16000/27780 queries. users per second: 8821.95</pre>"
      ],
      "text/plain": [
       "recommendations finished on 16000/27780 queries. users per second: 8821.95"
      ]
     },
     "metadata": {},
     "output_type": "display_data"
    },
    {
     "data": {
      "text/html": [
       "<pre>recommendations finished on 17000/27780 queries. users per second: 8956.65</pre>"
      ],
      "text/plain": [
       "recommendations finished on 17000/27780 queries. users per second: 8956.65"
      ]
     },
     "metadata": {},
     "output_type": "display_data"
    },
    {
     "data": {
      "text/html": [
       "<pre>recommendations finished on 18000/27780 queries. users per second: 9056.29</pre>"
      ],
      "text/plain": [
       "recommendations finished on 18000/27780 queries. users per second: 9056.29"
      ]
     },
     "metadata": {},
     "output_type": "display_data"
    },
    {
     "data": {
      "text/html": [
       "<pre>recommendations finished on 19000/27780 queries. users per second: 8927.01</pre>"
      ],
      "text/plain": [
       "recommendations finished on 19000/27780 queries. users per second: 8927.01"
      ]
     },
     "metadata": {},
     "output_type": "display_data"
    },
    {
     "data": {
      "text/html": [
       "<pre>recommendations finished on 20000/27780 queries. users per second: 8539.02</pre>"
      ],
      "text/plain": [
       "recommendations finished on 20000/27780 queries. users per second: 8539.02"
      ]
     },
     "metadata": {},
     "output_type": "display_data"
    },
    {
     "data": {
      "text/html": [
       "<pre>recommendations finished on 21000/27780 queries. users per second: 8330.96</pre>"
      ],
      "text/plain": [
       "recommendations finished on 21000/27780 queries. users per second: 8330.96"
      ]
     },
     "metadata": {},
     "output_type": "display_data"
    },
    {
     "data": {
      "text/html": [
       "<pre>recommendations finished on 22000/27780 queries. users per second: 8374.19</pre>"
      ],
      "text/plain": [
       "recommendations finished on 22000/27780 queries. users per second: 8374.19"
      ]
     },
     "metadata": {},
     "output_type": "display_data"
    },
    {
     "data": {
      "text/html": [
       "<pre>recommendations finished on 23000/27780 queries. users per second: 8425.56</pre>"
      ],
      "text/plain": [
       "recommendations finished on 23000/27780 queries. users per second: 8425.56"
      ]
     },
     "metadata": {},
     "output_type": "display_data"
    },
    {
     "data": {
      "text/html": [
       "<pre>recommendations finished on 24000/27780 queries. users per second: 8467.38</pre>"
      ],
      "text/plain": [
       "recommendations finished on 24000/27780 queries. users per second: 8467.38"
      ]
     },
     "metadata": {},
     "output_type": "display_data"
    },
    {
     "data": {
      "text/html": [
       "<pre>recommendations finished on 25000/27780 queries. users per second: 8408.3</pre>"
      ],
      "text/plain": [
       "recommendations finished on 25000/27780 queries. users per second: 8408.3"
      ]
     },
     "metadata": {},
     "output_type": "display_data"
    },
    {
     "data": {
      "text/html": [
       "<pre>recommendations finished on 26000/27780 queries. users per second: 8329.55</pre>"
      ],
      "text/plain": [
       "recommendations finished on 26000/27780 queries. users per second: 8329.55"
      ]
     },
     "metadata": {},
     "output_type": "display_data"
    },
    {
     "data": {
      "text/html": [
       "<pre>recommendations finished on 27000/27780 queries. users per second: 8368.11</pre>"
      ],
      "text/plain": [
       "recommendations finished on 27000/27780 queries. users per second: 8368.11"
      ]
     },
     "metadata": {},
     "output_type": "display_data"
    }
   ],
   "source": [
    "result = model.recommend()"
   ]
  },
  {
   "cell_type": "code",
   "execution_count": 31,
   "metadata": {
    "collapsed": false
   },
   "outputs": [
    {
     "name": "stdout",
     "output_type": "stream",
     "text": [
      "+------------------------+------------------------+---------------+------+\n",
      "|        user_id         |      business_id       |     score     | rank |\n",
      "+------------------------+------------------------+---------------+------+\n",
      "| 1diI7PX0AxbbtiUB7nPbuQ | KleJUKZjGFFhybrcpZIyHQ | 6.71917843969 |  1   |\n",
      "| 1diI7PX0AxbbtiUB7nPbuQ | LC7BFWxUM6CxMMKDMkoSYg | 6.16533064993 |  2   |\n",
      "| 1diI7PX0AxbbtiUB7nPbuQ | eXaVJc5GMIjYEUjbrc13FA | 6.08343434484 |  3   |\n",
      "| 1diI7PX0AxbbtiUB7nPbuQ | zOCdVUKUN3b-obT67Qjyww | 6.04998183401 |  4   |\n",
      "| 1diI7PX0AxbbtiUB7nPbuQ | WZNU4bQJJHr3p4SjnjVrkg | 6.03784775884 |  5   |\n",
      "| 1diI7PX0AxbbtiUB7nPbuQ | kK4AzZ0YWI-U2G-paAL7Fg | 6.01721954496 |  6   |\n",
      "| 1diI7PX0AxbbtiUB7nPbuQ | j1Ii8r1H4AZ0FAbJAdk3Qw |  5.9867246166 |  7   |\n",
      "| 1diI7PX0AxbbtiUB7nPbuQ | WSHQ9qpL39g5xA3E5iBCmw | 5.87792110593 |  8   |\n",
      "| 1diI7PX0AxbbtiUB7nPbuQ | h_WtRK_umSU8LCCmAeqbFA | 5.79886984975 |  9   |\n",
      "| 1diI7PX0AxbbtiUB7nPbuQ | IVc23uY-36WUNYoIbz42Fg | 5.76278138311 |  10  |\n",
      "| 2_HfgANoSydelB2FSExqWw | qXyhCYV6cjojzy5rJKooMA | 7.55719840677 |  1   |\n",
      "| 2_HfgANoSydelB2FSExqWw | XfVGU6WGZKc867spn2TImw | 6.15043699892 |  2   |\n",
      "| 2_HfgANoSydelB2FSExqWw | 2qqzGBLM9VFwjIuiEKHspg | 6.11321151407 |  3   |\n",
      "| 2_HfgANoSydelB2FSExqWw | Sy-hmzSH1OmWpHmAfZtxRA | 5.69144976289 |  4   |\n",
      "| 2_HfgANoSydelB2FSExqWw | cN6aBxe2mQvrQlzk26LyRQ | 5.33039081247 |  5   |\n",
      "| 2_HfgANoSydelB2FSExqWw | QkyN2vqQidQhotvOtPIrkw | 5.23411977441 |  6   |\n",
      "| 2_HfgANoSydelB2FSExqWw | T5HYqRADhAL6VPRAacz74Q | 5.12596166284 |  7   |\n",
      "| 2_HfgANoSydelB2FSExqWw | BPi1Q5wX0_o5VlO_XRyYuQ | 5.10650599153 |  8   |\n",
      "| 2_HfgANoSydelB2FSExqWw | EKVrH21lOIRrXdLf-Dt5RQ | 4.99858772905 |  9   |\n",
      "| 2_HfgANoSydelB2FSExqWw | zt1TpTuJ6y9n551sw9TaEg | 4.98720252664 |  10  |\n",
      "| 3gIfcQq5KxAegwCPXc83cQ | XfVGU6WGZKc867spn2TImw | 5.68386137263 |  1   |\n",
      "| 3gIfcQq5KxAegwCPXc83cQ | bgTB6MgdVQssXhkNJ7qIfw | 5.18781196849 |  2   |\n",
      "| 3gIfcQq5KxAegwCPXc83cQ | jKLR4wAywvVcGtQnCLzoRw | 4.95738518016 |  3   |\n",
      "| 3gIfcQq5KxAegwCPXc83cQ | Xq1FtLSV54Spf-HfONc1aA | 4.75271606223 |  4   |\n",
      "| 3gIfcQq5KxAegwCPXc83cQ | Sj-UN60VVcT7HOYbtL_GhA | 4.75067317264 |  5   |\n",
      "| 3gIfcQq5KxAegwCPXc83cQ | yQONzVpX-DEpGSuKMIov6A | 4.69294917361 |  6   |\n",
      "| 3gIfcQq5KxAegwCPXc83cQ | DKBtVEVkLJmT25aMbcvTcA | 4.69098508136 |  7   |\n",
      "| 3gIfcQq5KxAegwCPXc83cQ | WNy1uzcmm_UHmTyR--o5IA | 4.56593239085 |  8   |\n",
      "| 3gIfcQq5KxAegwCPXc83cQ | ES-j5yNTgmgbL4He0h6otA | 4.54940765874 |  9   |\n",
      "| 3gIfcQq5KxAegwCPXc83cQ | 3NqERLqdtQSe0w9540rZrQ | 4.52631294505 |  10  |\n",
      "| 51TIJ6jlsVGWhEvu02433g | OVtSFFNohXIz9vdWDvbnEw | 6.43748167307 |  1   |\n",
      "| 51TIJ6jlsVGWhEvu02433g | e9QRvkzssPNRmBLlDem9ZQ | 6.42851641924 |  2   |\n",
      "| 51TIJ6jlsVGWhEvu02433g | e2oXHln1dux2ACR0QQGoeQ | 6.32530835421 |  3   |\n",
      "| 51TIJ6jlsVGWhEvu02433g | tb24fvNJfHhyKEXkKn12Xw | 6.06589964182 |  4   |\n",
      "| 51TIJ6jlsVGWhEvu02433g | XfVGU6WGZKc867spn2TImw | 6.05939009936 |  5   |\n",
      "| 51TIJ6jlsVGWhEvu02433g | 8ktREOIxt3kRdJpJK7jpfA | 5.97702172549 |  6   |\n",
      "| 51TIJ6jlsVGWhEvu02433g | DKBtVEVkLJmT25aMbcvTcA | 5.95051387103 |  7   |\n",
      "| 51TIJ6jlsVGWhEvu02433g | 5D5DLnLMYiIt2ztgp6rTqA | 5.93673280032 |  8   |\n",
      "| 51TIJ6jlsVGWhEvu02433g | Xq1FtLSV54Spf-HfONc1aA | 5.85268262179 |  9   |\n",
      "| 51TIJ6jlsVGWhEvu02433g | GmzpzmxinfLMw5OXQKFEBQ | 5.81684187205 |  10  |\n",
      "| 66oDhsKSB_eSrhCKiERDow | RGDyf8-PyzyS9Lzs9bkvgA | 6.17561203392 |  1   |\n",
      "| 66oDhsKSB_eSrhCKiERDow | vaabk6CYXX1dYVQ1xkyPUg | 5.95019585044 |  2   |\n",
      "| 66oDhsKSB_eSrhCKiERDow | 0CG3ns3gwWV5nOnfzSfUIQ | 5.77798944862 |  3   |\n",
      "| 66oDhsKSB_eSrhCKiERDow | 8ktREOIxt3kRdJpJK7jpfA | 5.60461622627 |  4   |\n",
      "| 66oDhsKSB_eSrhCKiERDow | BESmH-lmMm34_EefL8X9fQ | 5.60317665489 |  5   |\n",
      "| 66oDhsKSB_eSrhCKiERDow | BtLtTRjvAGcwxHWBqfB2Yw | 5.45314866455 |  6   |\n",
      "| 66oDhsKSB_eSrhCKiERDow | BM5cyCVnB8E0ZQu50zYA6g | 5.36502200515 |  7   |\n",
      "| 66oDhsKSB_eSrhCKiERDow | XYhVyCbzJCrYclR6J4LYSw | 5.26007396133 |  8   |\n",
      "| 66oDhsKSB_eSrhCKiERDow | QJlab4DqvBRJPUfg7Vn5ZQ | 5.20491033943 |  9   |\n",
      "| 66oDhsKSB_eSrhCKiERDow | emKCDGxYpL-hsLDQiULBdQ | 5.15860802085 |  10  |\n",
      "| 6teUzcdOBAydncEmvW02zQ | Dy7TJMsjsxMLmXPY4kNmcg | 5.74523472936 |  1   |\n",
      "| 6teUzcdOBAydncEmvW02zQ | gH1bhhbV8MeRc8A2V3D0GQ | 5.53639626653 |  2   |\n",
      "| 6teUzcdOBAydncEmvW02zQ | zsWJEyP8YyJkux0muGtiVw | 5.49524045141 |  3   |\n",
      "| 6teUzcdOBAydncEmvW02zQ | qT4w8n27RBQ_slz_FiK0CQ | 5.12485265882 |  4   |\n",
      "| 6teUzcdOBAydncEmvW02zQ | Az69nueCy94SVKkWaNNR0Q | 5.09258008154 |  5   |\n",
      "| 6teUzcdOBAydncEmvW02zQ | 1vl4-5il_LGtDRxUCy9ldw | 4.93043852003 |  6   |\n",
      "| 6teUzcdOBAydncEmvW02zQ | Cp6JGY5YIRncTV_My9nf9g |  4.9242541805 |  7   |\n",
      "| 6teUzcdOBAydncEmvW02zQ | 9yKzy9PApeiPPOUJEtnvkg | 4.90127098711 |  8   |\n",
      "| 6teUzcdOBAydncEmvW02zQ | nNJyE4VwvFwUk7pd28k5jw | 4.89233255537 |  9   |\n",
      "| 6teUzcdOBAydncEmvW02zQ | tAmevVP8B7PiWxcJ0PlYVA | 4.82177460344 |  10  |\n",
      "| 6ts41fCsDKHbFZaKOMNmVQ | 5fu41tfqTU_LONb95t1Dkg |  6.2608050123 |  1   |\n",
      "| 6ts41fCsDKHbFZaKOMNmVQ | uKSX1n1RoAzGq4bV8GPHVg | 5.70061504991 |  2   |\n",
      "| 6ts41fCsDKHbFZaKOMNmVQ | 2RxIERKZi5gjLW76MkFotQ | 5.43531167657 |  3   |\n",
      "| 6ts41fCsDKHbFZaKOMNmVQ | 3xEB9FyFXolq1b_Qn_BFtg | 5.36923658998 |  4   |\n",
      "| 6ts41fCsDKHbFZaKOMNmVQ | bS2iENq-r03NA7HcON3ujg | 5.35272967966 |  5   |\n",
      "| 6ts41fCsDKHbFZaKOMNmVQ | i213sY5rhkfCO8cD-FPr1A | 5.29723465593 |  6   |\n",
      "| 6ts41fCsDKHbFZaKOMNmVQ | mqQwChPNN4o4DhAzaGntIA | 5.25874602945 |  7   |\n",
      "| 6ts41fCsDKHbFZaKOMNmVQ | b1aTHVkqCa4kZITbu9khtA | 5.23619830759 |  8   |\n",
      "| 6ts41fCsDKHbFZaKOMNmVQ | tqDwpyCB53TiEIv915Tuww |  5.2163926378 |  9   |\n",
      "| 6ts41fCsDKHbFZaKOMNmVQ | FFCkoA_L3cqYXtHtLyvxwA |  5.1617885843 |  10  |\n",
      "| 7GAjxEA-OscXgPt7YFgkBw | QYSBBLmZi-Cuw0sWzxgVVg | 5.66985821874 |  1   |\n",
      "| 7GAjxEA-OscXgPt7YFgkBw | zp713qNhx8d9KCJJnrw1xA | 5.26298833044 |  2   |\n",
      "| 7GAjxEA-OscXgPt7YFgkBw | UWrB5H3G-hhiHMy3iKV2ew | 5.23559522779 |  3   |\n",
      "| 7GAjxEA-OscXgPt7YFgkBw | ojjtPlnSmCX1zCzWL7JoNQ | 5.00791478307 |  4   |\n",
      "| 7GAjxEA-OscXgPt7YFgkBw | zMa6YoEekpABg1HZnnTZdg | 4.99366092832 |  5   |\n",
      "| 7GAjxEA-OscXgPt7YFgkBw | Xk3inJcuBGLhavUcdlINZA | 4.87255859525 |  6   |\n",
      "| 7GAjxEA-OscXgPt7YFgkBw | St3jS0PnF1lulH1ggA4Jgw | 4.83241284044 |  7   |\n",
      "| 7GAjxEA-OscXgPt7YFgkBw | 1vl4-5il_LGtDRxUCy9ldw | 4.73532676847 |  8   |\n",
      "| 7GAjxEA-OscXgPt7YFgkBw | jtzhY-P4H6WSYpv5rWhxtw | 4.72484898717 |  9   |\n",
      "| 7GAjxEA-OscXgPt7YFgkBw | v7OwbHgNgy_VQ9eP5FjvUA |  4.7145254627 |  10  |\n",
      "| 8p4at4zdzCpueAmSBaorZA | KleJUKZjGFFhybrcpZIyHQ | 6.08905077131 |  1   |\n",
      "| 8p4at4zdzCpueAmSBaorZA | vvMR0jgDoBA-g1XgZy8sEg | 5.94801950605 |  2   |\n",
      "| 8p4at4zdzCpueAmSBaorZA | WZNU4bQJJHr3p4SjnjVrkg | 5.89021587522 |  3   |\n",
      "| 8p4at4zdzCpueAmSBaorZA | pAHUC05ceak48e745i6G4g | 5.53788638265 |  4   |\n",
      "| 8p4at4zdzCpueAmSBaorZA | e8FMAuTswDueAlLsNyLhcA | 5.52585363538 |  5   |\n",
      "| 8p4at4zdzCpueAmSBaorZA | L2J3JfjXZLnX1rLhWKthqA | 5.50107622297 |  6   |\n",
      "| 8p4at4zdzCpueAmSBaorZA | eXaVJc5GMIjYEUjbrc13FA | 5.46200752409 |  7   |\n",
      "| 8p4at4zdzCpueAmSBaorZA | oc0Wl6ktfMLb5VZ2Uz6M2A | 5.36157918127 |  8   |\n",
      "| 8p4at4zdzCpueAmSBaorZA | RoNqL3P67m2XnrObqilZgQ | 5.36090421827 |  9   |\n",
      "| 8p4at4zdzCpueAmSBaorZA | cp39VURFby4A6u9m2It8jg | 5.26440930517 |  10  |\n",
      "| E_nfCKOFFgvbfY0yGg-Oew | XKlhLb7jQcbvVq1hpUmuYg | 6.51698573829 |  1   |\n",
      "| E_nfCKOFFgvbfY0yGg-Oew | nNJyE4VwvFwUk7pd28k5jw | 5.90040501357 |  2   |\n",
      "| E_nfCKOFFgvbfY0yGg-Oew | XfVGU6WGZKc867spn2TImw | 5.85058006049 |  3   |\n",
      "| E_nfCKOFFgvbfY0yGg-Oew | DKBtVEVkLJmT25aMbcvTcA | 5.68449887039 |  4   |\n",
      "| E_nfCKOFFgvbfY0yGg-Oew | 18TUn9oiW0k0yB6lheiOvw | 5.49333986045 |  5   |\n",
      "| E_nfCKOFFgvbfY0yGg-Oew | tAmevVP8B7PiWxcJ0PlYVA | 5.45997473003 |  6   |\n",
      "| E_nfCKOFFgvbfY0yGg-Oew | hQBLiFMHKq7OvsaGCb9AZA | 5.44262834789 |  7   |\n",
      "| E_nfCKOFFgvbfY0yGg-Oew | VapdXuC8X-Q3T_wgA6yCAg | 5.40654369594 |  8   |\n",
      "| E_nfCKOFFgvbfY0yGg-Oew | Xq9tkiHhyN_aBFswFeGLvA | 5.39267953636 |  9   |\n",
      "| E_nfCKOFFgvbfY0yGg-Oew | qw93CjlAZ6a4ff11Z-hF3Q | 5.37520405055 |  10  |\n",
      "+------------------------+------------------------+---------------+------+\n",
      "[277800 rows x 4 columns]\n",
      "\n"
     ]
    }
   ],
   "source": [
    "result.print_rows(num_rows=100, num_columns=4)"
   ]
  },
  {
   "cell_type": "code",
   "execution_count": 32,
   "metadata": {
    "collapsed": false
   },
   "outputs": [
    {
     "data": {
      "text/html": [
       "<pre>Recsys training: model = item_similarity</pre>"
      ],
      "text/plain": [
       "Recsys training: model = item_similarity"
      ]
     },
     "metadata": {},
     "output_type": "display_data"
    },
    {
     "data": {
      "text/html": [
       "<pre>Preparing data set.</pre>"
      ],
      "text/plain": [
       "Preparing data set."
      ]
     },
     "metadata": {},
     "output_type": "display_data"
    },
    {
     "data": {
      "text/html": [
       "<pre>    Data has 653557 observations with 27780 users and 9284 items.</pre>"
      ],
      "text/plain": [
       "    Data has 653557 observations with 27780 users and 9284 items."
      ]
     },
     "metadata": {},
     "output_type": "display_data"
    },
    {
     "data": {
      "text/html": [
       "<pre>    Data prepared in: 1.59787s</pre>"
      ],
      "text/plain": [
       "    Data prepared in: 1.59787s"
      ]
     },
     "metadata": {},
     "output_type": "display_data"
    },
    {
     "data": {
      "text/html": [
       "<pre>Training model from provided data.</pre>"
      ],
      "text/plain": [
       "Training model from provided data."
      ]
     },
     "metadata": {},
     "output_type": "display_data"
    },
    {
     "data": {
      "text/html": [
       "<pre>Gathering per-item and per-user statistics.</pre>"
      ],
      "text/plain": [
       "Gathering per-item and per-user statistics."
      ]
     },
     "metadata": {},
     "output_type": "display_data"
    },
    {
     "data": {
      "text/html": [
       "<pre>+--------------------------------+------------+</pre>"
      ],
      "text/plain": [
       "+--------------------------------+------------+"
      ]
     },
     "metadata": {},
     "output_type": "display_data"
    },
    {
     "data": {
      "text/html": [
       "<pre>| Elapsed Time (Item Statistics) | % Complete |</pre>"
      ],
      "text/plain": [
       "| Elapsed Time (Item Statistics) | % Complete |"
      ]
     },
     "metadata": {},
     "output_type": "display_data"
    },
    {
     "data": {
      "text/html": [
       "<pre>+--------------------------------+------------+</pre>"
      ],
      "text/plain": [
       "+--------------------------------+------------+"
      ]
     },
     "metadata": {},
     "output_type": "display_data"
    },
    {
     "data": {
      "text/html": [
       "<pre>| 7.393ms                        | 3.5        |</pre>"
      ],
      "text/plain": [
       "| 7.393ms                        | 3.5        |"
      ]
     },
     "metadata": {},
     "output_type": "display_data"
    },
    {
     "data": {
      "text/html": [
       "<pre>| 54.221ms                       | 100        |</pre>"
      ],
      "text/plain": [
       "| 54.221ms                       | 100        |"
      ]
     },
     "metadata": {},
     "output_type": "display_data"
    },
    {
     "data": {
      "text/html": [
       "<pre>+--------------------------------+------------+</pre>"
      ],
      "text/plain": [
       "+--------------------------------+------------+"
      ]
     },
     "metadata": {},
     "output_type": "display_data"
    },
    {
     "data": {
      "text/html": [
       "<pre>Setting up lookup tables.</pre>"
      ],
      "text/plain": [
       "Setting up lookup tables."
      ]
     },
     "metadata": {},
     "output_type": "display_data"
    },
    {
     "data": {
      "text/html": [
       "<pre>Processing data in one pass using dense lookup tables.</pre>"
      ],
      "text/plain": [
       "Processing data in one pass using dense lookup tables."
      ]
     },
     "metadata": {},
     "output_type": "display_data"
    },
    {
     "data": {
      "text/html": [
       "<pre>+-------------------------------------+------------------+-----------------+</pre>"
      ],
      "text/plain": [
       "+-------------------------------------+------------------+-----------------+"
      ]
     },
     "metadata": {},
     "output_type": "display_data"
    },
    {
     "data": {
      "text/html": [
       "<pre>| Elapsed Time (Constructing Lookups) | Total % Complete | Items Processed |</pre>"
      ],
      "text/plain": [
       "| Elapsed Time (Constructing Lookups) | Total % Complete | Items Processed |"
      ]
     },
     "metadata": {},
     "output_type": "display_data"
    },
    {
     "data": {
      "text/html": [
       "<pre>+-------------------------------------+------------------+-----------------+</pre>"
      ],
      "text/plain": [
       "+-------------------------------------+------------------+-----------------+"
      ]
     },
     "metadata": {},
     "output_type": "display_data"
    },
    {
     "data": {
      "text/html": [
       "<pre>| 519.557ms                           | 0                | 0               |</pre>"
      ],
      "text/plain": [
       "| 519.557ms                           | 0                | 0               |"
      ]
     },
     "metadata": {},
     "output_type": "display_data"
    },
    {
     "data": {
      "text/html": [
       "<pre>| 2.63s                               | 100              | 9284            |</pre>"
      ],
      "text/plain": [
       "| 2.63s                               | 100              | 9284            |"
      ]
     },
     "metadata": {},
     "output_type": "display_data"
    },
    {
     "data": {
      "text/html": [
       "<pre>+-------------------------------------+------------------+-----------------+</pre>"
      ],
      "text/plain": [
       "+-------------------------------------+------------------+-----------------+"
      ]
     },
     "metadata": {},
     "output_type": "display_data"
    },
    {
     "data": {
      "text/html": [
       "<pre>Finalizing lookup tables.</pre>"
      ],
      "text/plain": [
       "Finalizing lookup tables."
      ]
     },
     "metadata": {},
     "output_type": "display_data"
    },
    {
     "data": {
      "text/html": [
       "<pre>Generating candidate set for working with new users.</pre>"
      ],
      "text/plain": [
       "Generating candidate set for working with new users."
      ]
     },
     "metadata": {},
     "output_type": "display_data"
    },
    {
     "data": {
      "text/html": [
       "<pre>Finished training in 2.73097s</pre>"
      ],
      "text/plain": [
       "Finished training in 2.73097s"
      ]
     },
     "metadata": {},
     "output_type": "display_data"
    }
   ],
   "source": [
    "item_sim_model = graphlab.item_similarity_recommender.create(train_data, user_id='user_id', item_id='business_id', target='stars', similarity_type='cosine')"
   ]
  },
  {
   "cell_type": "code",
   "execution_count": 41,
   "metadata": {
    "collapsed": false,
    "scrolled": false
   },
   "outputs": [
    {
     "data": {
      "text/html": [
       "<pre>recommendations finished on 1000/27780 queries. users per second: 11169.4</pre>"
      ],
      "text/plain": [
       "recommendations finished on 1000/27780 queries. users per second: 11169.4"
      ]
     },
     "metadata": {},
     "output_type": "display_data"
    },
    {
     "data": {
      "text/html": [
       "<pre>recommendations finished on 2000/27780 queries. users per second: 9857.9</pre>"
      ],
      "text/plain": [
       "recommendations finished on 2000/27780 queries. users per second: 9857.9"
      ]
     },
     "metadata": {},
     "output_type": "display_data"
    },
    {
     "data": {
      "text/html": [
       "<pre>recommendations finished on 3000/27780 queries. users per second: 10429.3</pre>"
      ],
      "text/plain": [
       "recommendations finished on 3000/27780 queries. users per second: 10429.3"
      ]
     },
     "metadata": {},
     "output_type": "display_data"
    },
    {
     "data": {
      "text/html": [
       "<pre>recommendations finished on 4000/27780 queries. users per second: 10839.8</pre>"
      ],
      "text/plain": [
       "recommendations finished on 4000/27780 queries. users per second: 10839.8"
      ]
     },
     "metadata": {},
     "output_type": "display_data"
    },
    {
     "data": {
      "text/html": [
       "<pre>recommendations finished on 5000/27780 queries. users per second: 11297.6</pre>"
      ],
      "text/plain": [
       "recommendations finished on 5000/27780 queries. users per second: 11297.6"
      ]
     },
     "metadata": {},
     "output_type": "display_data"
    },
    {
     "data": {
      "text/html": [
       "<pre>recommendations finished on 6000/27780 queries. users per second: 11640</pre>"
      ],
      "text/plain": [
       "recommendations finished on 6000/27780 queries. users per second: 11640"
      ]
     },
     "metadata": {},
     "output_type": "display_data"
    },
    {
     "data": {
      "text/html": [
       "<pre>recommendations finished on 7000/27780 queries. users per second: 11511.5</pre>"
      ],
      "text/plain": [
       "recommendations finished on 7000/27780 queries. users per second: 11511.5"
      ]
     },
     "metadata": {},
     "output_type": "display_data"
    },
    {
     "data": {
      "text/html": [
       "<pre>recommendations finished on 8000/27780 queries. users per second: 11489.7</pre>"
      ],
      "text/plain": [
       "recommendations finished on 8000/27780 queries. users per second: 11489.7"
      ]
     },
     "metadata": {},
     "output_type": "display_data"
    },
    {
     "data": {
      "text/html": [
       "<pre>recommendations finished on 9000/27780 queries. users per second: 11609.2</pre>"
      ],
      "text/plain": [
       "recommendations finished on 9000/27780 queries. users per second: 11609.2"
      ]
     },
     "metadata": {},
     "output_type": "display_data"
    },
    {
     "data": {
      "text/html": [
       "<pre>recommendations finished on 10000/27780 queries. users per second: 11637.6</pre>"
      ],
      "text/plain": [
       "recommendations finished on 10000/27780 queries. users per second: 11637.6"
      ]
     },
     "metadata": {},
     "output_type": "display_data"
    },
    {
     "data": {
      "text/html": [
       "<pre>recommendations finished on 11000/27780 queries. users per second: 11629.8</pre>"
      ],
      "text/plain": [
       "recommendations finished on 11000/27780 queries. users per second: 11629.8"
      ]
     },
     "metadata": {},
     "output_type": "display_data"
    },
    {
     "data": {
      "text/html": [
       "<pre>recommendations finished on 12000/27780 queries. users per second: 11668</pre>"
      ],
      "text/plain": [
       "recommendations finished on 12000/27780 queries. users per second: 11668"
      ]
     },
     "metadata": {},
     "output_type": "display_data"
    },
    {
     "data": {
      "text/html": [
       "<pre>recommendations finished on 13000/27780 queries. users per second: 11850.2</pre>"
      ],
      "text/plain": [
       "recommendations finished on 13000/27780 queries. users per second: 11850.2"
      ]
     },
     "metadata": {},
     "output_type": "display_data"
    },
    {
     "data": {
      "text/html": [
       "<pre>recommendations finished on 14000/27780 queries. users per second: 11788.6</pre>"
      ],
      "text/plain": [
       "recommendations finished on 14000/27780 queries. users per second: 11788.6"
      ]
     },
     "metadata": {},
     "output_type": "display_data"
    },
    {
     "data": {
      "text/html": [
       "<pre>recommendations finished on 15000/27780 queries. users per second: 11700.4</pre>"
      ],
      "text/plain": [
       "recommendations finished on 15000/27780 queries. users per second: 11700.4"
      ]
     },
     "metadata": {},
     "output_type": "display_data"
    },
    {
     "data": {
      "text/html": [
       "<pre>recommendations finished on 16000/27780 queries. users per second: 11744.1</pre>"
      ],
      "text/plain": [
       "recommendations finished on 16000/27780 queries. users per second: 11744.1"
      ]
     },
     "metadata": {},
     "output_type": "display_data"
    },
    {
     "data": {
      "text/html": [
       "<pre>recommendations finished on 17000/27780 queries. users per second: 11780.7</pre>"
      ],
      "text/plain": [
       "recommendations finished on 17000/27780 queries. users per second: 11780.7"
      ]
     },
     "metadata": {},
     "output_type": "display_data"
    },
    {
     "data": {
      "text/html": [
       "<pre>recommendations finished on 18000/27780 queries. users per second: 11710.9</pre>"
      ],
      "text/plain": [
       "recommendations finished on 18000/27780 queries. users per second: 11710.9"
      ]
     },
     "metadata": {},
     "output_type": "display_data"
    },
    {
     "data": {
      "text/html": [
       "<pre>recommendations finished on 19000/27780 queries. users per second: 11594.7</pre>"
      ],
      "text/plain": [
       "recommendations finished on 19000/27780 queries. users per second: 11594.7"
      ]
     },
     "metadata": {},
     "output_type": "display_data"
    },
    {
     "data": {
      "text/html": [
       "<pre>recommendations finished on 20000/27780 queries. users per second: 11635.9</pre>"
      ],
      "text/plain": [
       "recommendations finished on 20000/27780 queries. users per second: 11635.9"
      ]
     },
     "metadata": {},
     "output_type": "display_data"
    },
    {
     "data": {
      "text/html": [
       "<pre>recommendations finished on 21000/27780 queries. users per second: 11648.8</pre>"
      ],
      "text/plain": [
       "recommendations finished on 21000/27780 queries. users per second: 11648.8"
      ]
     },
     "metadata": {},
     "output_type": "display_data"
    },
    {
     "data": {
      "text/html": [
       "<pre>recommendations finished on 22000/27780 queries. users per second: 11505.4</pre>"
      ],
      "text/plain": [
       "recommendations finished on 22000/27780 queries. users per second: 11505.4"
      ]
     },
     "metadata": {},
     "output_type": "display_data"
    },
    {
     "data": {
      "text/html": [
       "<pre>recommendations finished on 23000/27780 queries. users per second: 11325.4</pre>"
      ],
      "text/plain": [
       "recommendations finished on 23000/27780 queries. users per second: 11325.4"
      ]
     },
     "metadata": {},
     "output_type": "display_data"
    },
    {
     "data": {
      "text/html": [
       "<pre>recommendations finished on 24000/27780 queries. users per second: 11248.2</pre>"
      ],
      "text/plain": [
       "recommendations finished on 24000/27780 queries. users per second: 11248.2"
      ]
     },
     "metadata": {},
     "output_type": "display_data"
    },
    {
     "data": {
      "text/html": [
       "<pre>recommendations finished on 25000/27780 queries. users per second: 11281.6</pre>"
      ],
      "text/plain": [
       "recommendations finished on 25000/27780 queries. users per second: 11281.6"
      ]
     },
     "metadata": {},
     "output_type": "display_data"
    },
    {
     "data": {
      "text/html": [
       "<pre>recommendations finished on 26000/27780 queries. users per second: 11318.4</pre>"
      ],
      "text/plain": [
       "recommendations finished on 26000/27780 queries. users per second: 11318.4"
      ]
     },
     "metadata": {},
     "output_type": "display_data"
    },
    {
     "data": {
      "text/html": [
       "<pre>recommendations finished on 27000/27780 queries. users per second: 11349.2</pre>"
      ],
      "text/plain": [
       "recommendations finished on 27000/27780 queries. users per second: 11349.2"
      ]
     },
     "metadata": {},
     "output_type": "display_data"
    },
    {
     "name": "stdout",
     "output_type": "stream",
     "text": [
      "+------------------------+------------------------+-----------------+------+\n",
      "|        user_id         |      business_id       |      score      | rank |\n",
      "+------------------------+------------------------+-----------------+------+\n",
      "| 1diI7PX0AxbbtiUB7nPbuQ | FURgKkRFtMK5yKbjYZVVwA |  0.129724975337 |  1   |\n",
      "| 1diI7PX0AxbbtiUB7nPbuQ | pwpl-rxwNRQdgqFz_-qMPg |  0.110965773463 |  2   |\n",
      "| 1diI7PX0AxbbtiUB7nPbuQ | 3oZcTGb_oDHGwZFiP-7kxQ |  0.105246734213 |  3   |\n",
      "| 1diI7PX0AxbbtiUB7nPbuQ | I4bSn5gXsHuSPu7L-d_8nQ |  0.100454545157 |  4   |\n",
      "| 1diI7PX0AxbbtiUB7nPbuQ | _FXql6eVhbM923RdCi94SA | 0.0967094986276 |  5   |\n",
      "| 1diI7PX0AxbbtiUB7nPbuQ | -sC66z4SO3tR7nFCjfQwuQ | 0.0947760072621 |  6   |\n",
      "| 1diI7PX0AxbbtiUB7nPbuQ | EWMwV5V9BxNs_U6nNVMeqw | 0.0929256548936 |  7   |\n",
      "| 1diI7PX0AxbbtiUB7nPbuQ | wNsmt1hF1uv3YvbwXZMAoQ | 0.0884495526552 |  8   |\n",
      "| 1diI7PX0AxbbtiUB7nPbuQ | MuIXnv7Oq7X3-4aEsp9dDA | 0.0855832011862 |  9   |\n",
      "| 1diI7PX0AxbbtiUB7nPbuQ | V1nEpIRmEa1768oj_tuxeQ | 0.0851217664101 |  10  |\n",
      "| 2_HfgANoSydelB2FSExqWw | EWMwV5V9BxNs_U6nNVMeqw |  0.240094313698 |  1   |\n",
      "| 2_HfgANoSydelB2FSExqWw | uKSX1n1RoAzGq4bV8GPHVg |  0.199812710285 |  2   |\n",
      "| 2_HfgANoSydelB2FSExqWw | AaKlegu7gmOCD4rEESF76Q |  0.198333326847 |  3   |\n",
      "| 2_HfgANoSydelB2FSExqWw | pwpl-rxwNRQdgqFz_-qMPg |  0.181247895764 |  4   |\n",
      "| 2_HfgANoSydelB2FSExqWw | m9haUi2_1lHR2eAKBhKwDg |  0.176917372211 |  5   |\n",
      "| 2_HfgANoSydelB2FSExqWw | V1nEpIRmEa1768oj_tuxeQ |  0.160324538908 |  6   |\n",
      "| 2_HfgANoSydelB2FSExqWw | -sC66z4SO3tR7nFCjfQwuQ |  0.159245800587 |  7   |\n",
      "| 2_HfgANoSydelB2FSExqWw | IVc23uY-36WUNYoIbz42Fg |  0.153404178158 |  8   |\n",
      "| 2_HfgANoSydelB2FSExqWw | AkOruz5CrCxUmXe1p_WoRg |  0.151421908409 |  9   |\n",
      "| 2_HfgANoSydelB2FSExqWw | aRkYtXfmEKYG-eTDf_qUsw |  0.15089252495  |  10  |\n",
      "| 3gIfcQq5KxAegwCPXc83cQ | WS1z1OAR0tRl4FsjdTGUFQ | 0.0528967752758 |  1   |\n",
      "| 3gIfcQq5KxAegwCPXc83cQ | WNy1uzcmm_UHmTyR--o5IA | 0.0390413769463 |  2   |\n",
      "| 3gIfcQq5KxAegwCPXc83cQ | muCl5p-9ut1sY0aKeUeRhw | 0.0344819845104 |  3   |\n",
      "| 3gIfcQq5KxAegwCPXc83cQ | P5uC-zfGG6yqoQDUyqyAvg | 0.0323441851595 |  4   |\n",
      "| 3gIfcQq5KxAegwCPXc83cQ | d3MxUXS1b6U2P_gGuCO1-A | 0.0304864294758 |  5   |\n",
      "| 3gIfcQq5KxAegwCPXc83cQ | fwYujhi514Ie5GsdIZsa2g | 0.0269515436629 |  6   |\n",
      "| 3gIfcQq5KxAegwCPXc83cQ | sbsFamEj5wDxNAjUKrMcSw | 0.0267447029806 |  7   |\n",
      "| 3gIfcQq5KxAegwCPXc83cQ | St3jS0PnF1lulH1ggA4Jgw | 0.0250120387561 |  8   |\n",
      "| 3gIfcQq5KxAegwCPXc83cQ | Ax11wyp-FudujeU9nejQbw | 0.0248446276065 |  9   |\n",
      "| 3gIfcQq5KxAegwCPXc83cQ | bgTB6MgdVQssXhkNJ7qIfw | 0.0242250337902 |  10  |\n",
      "| 51TIJ6jlsVGWhEvu02433g | AkOruz5CrCxUmXe1p_WoRg |  0.287605619431 |  1   |\n",
      "| 51TIJ6jlsVGWhEvu02433g | 6Y-6Y6sy6qOQHrWI37zR1Q |  0.222539544106 |  2   |\n",
      "| 51TIJ6jlsVGWhEvu02433g | 0db71MbrvcJnyk71COCJBg |  0.215135657787 |  3   |\n",
      "| 51TIJ6jlsVGWhEvu02433g | b7GM0x9zZU5gq1aXErUf7Q |  0.205383688211 |  4   |\n",
      "| 51TIJ6jlsVGWhEvu02433g | Zy2vca7i9QFGRKa4m0C__A |  0.20035045743  |  5   |\n",
      "| 51TIJ6jlsVGWhEvu02433g | tAmevVP8B7PiWxcJ0PlYVA |  0.194264113903 |  6   |\n",
      "| 51TIJ6jlsVGWhEvu02433g | B0WC52tnLIBSW2s3Wl8HQQ |  0.184626537561 |  7   |\n",
      "| 51TIJ6jlsVGWhEvu02433g | 9Qt1pt0pk2VWz0chdGk-jw |  0.174421751499 |  8   |\n",
      "| 51TIJ6jlsVGWhEvu02433g | 1AsjNHp8x2fzRSsczVcs6A |  0.172769457102 |  9   |\n",
      "| 51TIJ6jlsVGWhEvu02433g | 8TGUK7LD3M-vLWml-jLb0w |  0.155589437485 |  10  |\n",
      "| 66oDhsKSB_eSrhCKiERDow | _FXql6eVhbM923RdCi94SA |  0.108856675968 |  1   |\n",
      "| 66oDhsKSB_eSrhCKiERDow | uKSX1n1RoAzGq4bV8GPHVg | 0.0956348784982 |  2   |\n",
      "| 66oDhsKSB_eSrhCKiERDow | aRkYtXfmEKYG-eTDf_qUsw | 0.0890945837106 |  3   |\n",
      "| 66oDhsKSB_eSrhCKiERDow | V1nEpIRmEa1768oj_tuxeQ |  0.081899933619 |  4   |\n",
      "| 66oDhsKSB_eSrhCKiERDow | 3n9mSKySEv3G03YjcU-YOQ | 0.0802991851552 |  5   |\n",
      "| 66oDhsKSB_eSrhCKiERDow | EWMwV5V9BxNs_U6nNVMeqw | 0.0780502467939 |  6   |\n",
      "| 66oDhsKSB_eSrhCKiERDow | -AAig9FG0s8gYE4f8GfowQ | 0.0695359412938 |  7   |\n",
      "| 66oDhsKSB_eSrhCKiERDow | M6fjHpkL9IRI-nI0BattRw | 0.0590351775084 |  8   |\n",
      "| 66oDhsKSB_eSrhCKiERDow | 1vl4-5il_LGtDRxUCy9ldw | 0.0562899908791 |  9   |\n",
      "| 66oDhsKSB_eSrhCKiERDow | 3oZcTGb_oDHGwZFiP-7kxQ | 0.0531024255165 |  10  |\n",
      "| 6teUzcdOBAydncEmvW02zQ | 0db71MbrvcJnyk71COCJBg |  0.189337825775 |  1   |\n",
      "| 6teUzcdOBAydncEmvW02zQ | yVQiGdxmnrkJDyQXv2maNA |  0.147463655472 |  2   |\n",
      "| 6teUzcdOBAydncEmvW02zQ | B0WC52tnLIBSW2s3Wl8HQQ |  0.14635835886  |  3   |\n",
      "| 6teUzcdOBAydncEmvW02zQ | XMRj865sZBPWCI7tx0uBWw |  0.140760297775 |  4   |\n",
      "| 6teUzcdOBAydncEmvW02zQ | tAmevVP8B7PiWxcJ0PlYVA |  0.125688040257 |  5   |\n",
      "| 6teUzcdOBAydncEmvW02zQ | HhNY3X0kyrN5682La6N6Cg |  0.125312349796 |  6   |\n",
      "| 6teUzcdOBAydncEmvW02zQ | 9Qt1pt0pk2VWz0chdGk-jw |  0.121420674324 |  7   |\n",
      "| 6teUzcdOBAydncEmvW02zQ | Zy2vca7i9QFGRKa4m0C__A |  0.120709867477 |  8   |\n",
      "| 6teUzcdOBAydncEmvW02zQ | YZbDLZp0zhmgnIPflNZZfA |  0.118564813137 |  9   |\n",
      "| 6teUzcdOBAydncEmvW02zQ | 5D5DLnLMYiIt2ztgp6rTqA |  0.110755472183 |  10  |\n",
      "| 6ts41fCsDKHbFZaKOMNmVQ | EWMwV5V9BxNs_U6nNVMeqw |  0.217418008018 |  1   |\n",
      "| 6ts41fCsDKHbFZaKOMNmVQ | pwpl-rxwNRQdgqFz_-qMPg |  0.190932739992 |  2   |\n",
      "| 6ts41fCsDKHbFZaKOMNmVQ | uKSX1n1RoAzGq4bV8GPHVg |  0.175207040738 |  3   |\n",
      "| 6ts41fCsDKHbFZaKOMNmVQ | -sC66z4SO3tR7nFCjfQwuQ |  0.164172373712 |  4   |\n",
      "| 6ts41fCsDKHbFZaKOMNmVQ | _FXql6eVhbM923RdCi94SA |  0.155365146697 |  5   |\n",
      "| 6ts41fCsDKHbFZaKOMNmVQ | 6imLt53br7SJ3av07jjH7w |  0.121808224358 |  6   |\n",
      "| 6ts41fCsDKHbFZaKOMNmVQ | IVc23uY-36WUNYoIbz42Fg |  0.119969428983 |  7   |\n",
      "| 6ts41fCsDKHbFZaKOMNmVQ | aRkYtXfmEKYG-eTDf_qUsw |  0.107363299467 |  8   |\n",
      "| 6ts41fCsDKHbFZaKOMNmVQ | OFBJtqWGSx6n6CchtVmoRw | 0.0991573962383 |  9   |\n",
      "| 6ts41fCsDKHbFZaKOMNmVQ | FqzgT9Y-Yu7jiWdHnGW-kQ | 0.0940061872825 |  10  |\n",
      "| 7GAjxEA-OscXgPt7YFgkBw | 3oZcTGb_oDHGwZFiP-7kxQ |  0.333284544945 |  1   |\n",
      "| 7GAjxEA-OscXgPt7YFgkBw | pwpl-rxwNRQdgqFz_-qMPg |  0.270836087068 |  2   |\n",
      "| 7GAjxEA-OscXgPt7YFgkBw | OFBJtqWGSx6n6CchtVmoRw |  0.270262495677 |  3   |\n",
      "| 7GAjxEA-OscXgPt7YFgkBw | wct7rZKyZqZftzmAU-vhWQ |  0.248751072089 |  4   |\n",
      "| 7GAjxEA-OscXgPt7YFgkBw | ojjtPlnSmCX1zCzWL7JoNQ |  0.247196217378 |  5   |\n",
      "| 7GAjxEA-OscXgPt7YFgkBw | SDwYQ6eSu1htn8vHWv128g |  0.246544531981 |  6   |\n",
      "| 7GAjxEA-OscXgPt7YFgkBw | FqzgT9Y-Yu7jiWdHnGW-kQ |  0.233469434579 |  7   |\n",
      "| 7GAjxEA-OscXgPt7YFgkBw | dcd3C1gWv-vVdQ9XYV8Ubw |  0.226046923796 |  8   |\n",
      "| 7GAjxEA-OscXgPt7YFgkBw | EWMwV5V9BxNs_U6nNVMeqw |  0.224269183477 |  9   |\n",
      "| 7GAjxEA-OscXgPt7YFgkBw | R8VwdLyvsp9iybNqRvm94g |  0.199023147424 |  10  |\n",
      "| 8p4at4zdzCpueAmSBaorZA | 3oZcTGb_oDHGwZFiP-7kxQ |  0.115784921088 |  1   |\n",
      "| 8p4at4zdzCpueAmSBaorZA | FURgKkRFtMK5yKbjYZVVwA |  0.105123222411 |  2   |\n",
      "| 8p4at4zdzCpueAmSBaorZA | V1nEpIRmEa1768oj_tuxeQ | 0.0962232018376 |  3   |\n",
      "| 8p4at4zdzCpueAmSBaorZA | -sC66z4SO3tR7nFCjfQwuQ | 0.0938158094346 |  4   |\n",
      "| 8p4at4zdzCpueAmSBaorZA | s1dex3Z3QoqiK7V-zXUgAw | 0.0786591338682 |  5   |\n",
      "| 8p4at4zdzCpueAmSBaorZA | 53YGfwmbW73JhFiemNeyzQ | 0.0723296833468 |  6   |\n",
      "| 8p4at4zdzCpueAmSBaorZA | AaKlegu7gmOCD4rEESF76Q | 0.0718604986732 |  7   |\n",
      "| 8p4at4zdzCpueAmSBaorZA | xY1sPHTA2RGVFlh5tZhs9g | 0.0678645614031 |  8   |\n",
      "| 8p4at4zdzCpueAmSBaorZA | wNsmt1hF1uv3YvbwXZMAoQ | 0.0676651121797 |  9   |\n",
      "| 8p4at4zdzCpueAmSBaorZA | aRkYtXfmEKYG-eTDf_qUsw | 0.0676067041921 |  10  |\n",
      "| E_nfCKOFFgvbfY0yGg-Oew | m9haUi2_1lHR2eAKBhKwDg |  0.283871476467 |  1   |\n",
      "| E_nfCKOFFgvbfY0yGg-Oew | tAmevVP8B7PiWxcJ0PlYVA |  0.247502258191 |  2   |\n",
      "| E_nfCKOFFgvbfY0yGg-Oew | 41j3GB7M-Lwq284Pfb9zgw |  0.239905852538 |  3   |\n",
      "| E_nfCKOFFgvbfY0yGg-Oew | uKSX1n1RoAzGq4bV8GPHVg |  0.229880580535 |  4   |\n",
      "| E_nfCKOFFgvbfY0yGg-Oew | eltTG6JOr9cg5FRAgGy8Jw |  0.228997468948 |  5   |\n",
      "| E_nfCKOFFgvbfY0yGg-Oew | _FXql6eVhbM923RdCi94SA |  0.222199467512 |  6   |\n",
      "| E_nfCKOFFgvbfY0yGg-Oew | aRkYtXfmEKYG-eTDf_qUsw |  0.218516542361 |  7   |\n",
      "| E_nfCKOFFgvbfY0yGg-Oew | M6fjHpkL9IRI-nI0BattRw |  0.216894035156 |  8   |\n",
      "| E_nfCKOFFgvbfY0yGg-Oew | XHzZgNmJFVHeT3unDg2Qig |  0.21400974347  |  9   |\n",
      "| E_nfCKOFFgvbfY0yGg-Oew | 6imLt53br7SJ3av07jjH7w |  0.209622956239 |  10  |\n",
      "+------------------------+------------------------+-----------------+------+\n",
      "[277800 rows x 4 columns]\n",
      "\n"
     ]
    }
   ],
   "source": [
    "item_sim_recomm = item_sim_model.recommend()\n",
    "item_sim_recomm.print_rows(num_rows=100)\n"
   ]
  },
  {
   "cell_type": "code",
   "execution_count": 50,
   "metadata": {
    "collapsed": false
   },
   "outputs": [],
   "source": [
    "df = result.to_dataframe()\n",
    "df.to_csv('/Users/dd/Desktop/result.csv')"
   ]
  },
  {
   "cell_type": "code",
   "execution_count": 51,
   "metadata": {
    "collapsed": true
   },
   "outputs": [],
   "source": [
    "df2 = item_sim_recomm.to_dataframe()\n",
    "df2.to_csv('/Users/dd/Desktop/item_result.csv')"
   ]
  },
  {
   "cell_type": "code",
   "execution_count": null,
   "metadata": {
    "collapsed": true
   },
   "outputs": [],
   "source": []
  }
 ],
 "metadata": {
  "kernelspec": {
   "display_name": "Python 2",
   "language": "python",
   "name": "python2"
  },
  "language_info": {
   "codemirror_mode": {
    "name": "ipython",
    "version": 2
   },
   "file_extension": ".py",
   "mimetype": "text/x-python",
   "name": "python",
   "nbconvert_exporter": "python",
   "pygments_lexer": "ipython2",
   "version": "2.7.11"
  }
 },
 "nbformat": 4,
 "nbformat_minor": 0
}
